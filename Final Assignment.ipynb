{
 "cells": [
  {
   "cell_type": "markdown",
   "id": "bb3d996e-d156-443d-8781-dc0b5a86461c",
   "metadata": {},
   "source": [
    "# \"My Jupyter Notebook on IBM Watson Studio\""
   ]
  },
  {
   "cell_type": "markdown",
   "id": "b260cff5-f3e9-499c-81a4-751b0edc26bb",
   "metadata": {},
   "source": [
    "# OKEUGO CHUKWUDIKE GABRIEL"
   ]
  },
  {
   "cell_type": "markdown",
   "id": "8de0dad9-30c5-4509-9301-07ba82a04283",
   "metadata": {},
   "source": [
    "# \" I am interested in Data Science because i love big data analytic and visualization"
   ]
  },
  {
   "cell_type": "markdown",
   "id": "a721b3d2-ecc1-48ee-b8e5-af0c92b737f3",
   "metadata": {},
   "source": [
    "# My next will be on Arithematic addition of simple numbers"
   ]
  },
  {
   "cell_type": "code",
   "execution_count": 1,
   "id": "946e7173-aa60-4ab2-8da0-440e902dabb3",
   "metadata": {},
   "outputs": [
    {
     "data": {
      "text/plain": [
       "20"
      ]
     },
     "execution_count": 1,
     "metadata": {},
     "output_type": "execute_result"
    }
   ],
   "source": [
    "10+10"
   ]
  },
  {
   "cell_type": "markdown",
   "id": "8dd5138f-165d-451e-89d5-fdb0e2365d9f",
   "metadata": {},
   "source": []
  }
 ],
 "metadata": {
  "kernelspec": {
   "display_name": "Python",
   "language": "python",
   "name": "conda-env-python-py"
  },
  "language_info": {
   "codemirror_mode": {
    "name": "ipython",
    "version": 3
   },
   "file_extension": ".py",
   "mimetype": "text/x-python",
   "name": "python",
   "nbconvert_exporter": "python",
   "pygments_lexer": "ipython3",
   "version": "3.7.12"
  }
 },
 "nbformat": 4,
 "nbformat_minor": 5
}
